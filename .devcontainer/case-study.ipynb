{
 "cells": [
  {
   "cell_type": "code",
   "execution_count": 5,
   "metadata": {},
   "outputs": [],
   "source": [
    "import causalpy as cp\n",
    "\n",
    "from lifetimes import BetaGeoFitter\n",
    "from lifetimes.plotting import (plot_period_transactions, \n",
    "    plot_calibration_purchases_vs_holdout_purchases, \n",
    "    plot_cumulative_transactions, \n",
    "    plot_incremental_transactions, \n",
    "    plot_transaction_rate_heterogeneity,\n",
    "    plot_dropout_rate_heterogeneity)\n",
    "from lifetimes.utils import summary_data_from_transaction_data\n",
    "from lifetimes.utils import calibration_and_holdout_data\n",
    "from lifetimes.plotting import plot_calibration_purchases_vs_holdout_purchases\n",
    "from lifetimes.generate_data import beta_geometric_nbd_model_transactional_data\n",
    "\n",
    "import pandas as pd"
   ]
  },
  {
   "attachments": {},
   "cell_type": "markdown",
   "metadata": {},
   "source": [
    "### Generate Synthetic Data"
   ]
  },
  {
   "cell_type": "code",
   "execution_count": 19,
   "metadata": {},
   "outputs": [
    {
     "data": {
      "text/html": [
       "<div>\n",
       "<style scoped>\n",
       "    .dataframe tbody tr th:only-of-type {\n",
       "        vertical-align: middle;\n",
       "    }\n",
       "\n",
       "    .dataframe tbody tr th {\n",
       "        vertical-align: top;\n",
       "    }\n",
       "\n",
       "    .dataframe thead th {\n",
       "        text-align: right;\n",
       "    }\n",
       "</style>\n",
       "<table border=\"1\" class=\"dataframe\">\n",
       "  <thead>\n",
       "    <tr style=\"text-align: right;\">\n",
       "      <th></th>\n",
       "      <th>customer_id</th>\n",
       "      <th>date</th>\n",
       "    </tr>\n",
       "  </thead>\n",
       "  <tbody>\n",
       "    <tr>\n",
       "      <th>0</th>\n",
       "      <td>0</td>\n",
       "      <td>2022-01-01 00:00:00.000000000</td>\n",
       "    </tr>\n",
       "    <tr>\n",
       "      <th>1</th>\n",
       "      <td>0</td>\n",
       "      <td>2022-10-23 20:12:22.915814400</td>\n",
       "    </tr>\n",
       "    <tr>\n",
       "      <th>2</th>\n",
       "      <td>1</td>\n",
       "      <td>2022-01-01 00:00:00.000000000</td>\n",
       "    </tr>\n",
       "    <tr>\n",
       "      <th>3</th>\n",
       "      <td>2</td>\n",
       "      <td>2022-01-01 00:00:00.000000000</td>\n",
       "    </tr>\n",
       "    <tr>\n",
       "      <th>4</th>\n",
       "      <td>3</td>\n",
       "      <td>2022-01-01 00:00:00.000000000</td>\n",
       "    </tr>\n",
       "    <tr>\n",
       "      <th>...</th>\n",
       "      <td>...</td>\n",
       "      <td>...</td>\n",
       "    </tr>\n",
       "    <tr>\n",
       "      <th>3162</th>\n",
       "      <td>997</td>\n",
       "      <td>2022-12-29 07:06:11.539814400</td>\n",
       "    </tr>\n",
       "    <tr>\n",
       "      <th>3163</th>\n",
       "      <td>997</td>\n",
       "      <td>2023-03-02 14:28:05.744755200</td>\n",
       "    </tr>\n",
       "    <tr>\n",
       "      <th>3164</th>\n",
       "      <td>997</td>\n",
       "      <td>2023-03-11 08:10:24.481804800</td>\n",
       "    </tr>\n",
       "    <tr>\n",
       "      <th>3165</th>\n",
       "      <td>998</td>\n",
       "      <td>2022-12-22 00:00:00.000000000</td>\n",
       "    </tr>\n",
       "    <tr>\n",
       "      <th>3166</th>\n",
       "      <td>999</td>\n",
       "      <td>2022-12-22 00:00:00.000000000</td>\n",
       "    </tr>\n",
       "  </tbody>\n",
       "</table>\n",
       "<p>29768 rows × 2 columns</p>\n",
       "</div>"
      ],
      "text/plain": [
       "     customer_id                          date\n",
       "0              0 2022-01-01 00:00:00.000000000\n",
       "1              0 2022-10-23 20:12:22.915814400\n",
       "2              1 2022-01-01 00:00:00.000000000\n",
       "3              2 2022-01-01 00:00:00.000000000\n",
       "4              3 2022-01-01 00:00:00.000000000\n",
       "...          ...                           ...\n",
       "3162         997 2022-12-29 07:06:11.539814400\n",
       "3163         997 2023-03-02 14:28:05.744755200\n",
       "3164         997 2023-03-11 08:10:24.481804800\n",
       "3165         998 2022-12-22 00:00:00.000000000\n",
       "3166         999 2022-12-22 00:00:00.000000000\n",
       "\n",
       "[29768 rows x 2 columns]"
      ]
     },
     "execution_count": 19,
     "metadata": {},
     "output_type": "execute_result"
    }
   ],
   "source": [
    "# Pretreatment_params\n",
    "pre_params = {\n",
    "    \"a\": 0.79, \n",
    "    \"alpha\": 4.41, \n",
    "    \"b\": 2.43, \n",
    "    \"r\": 0.24\n",
    "}\n",
    "\n",
    "post_params = {\n",
    "    \"a\": 0.79, \n",
    "    \"alpha\": 4.41, \n",
    "    \"b\": 2.43, \n",
    "    \"r\": 0.24\n",
    "}\n",
    "\n",
    "\n",
    "pre_trtmnt_df = beta_geometric_nbd_model_transactional_data(T=365, observation_period_end=\"2023-1-1\", freq=\"D\", size=5000, **pre_params)\n",
    "post_trtmnt_df = beta_geometric_nbd_model_transactional_data(T=100, observation_period_end=\"2023-4-1\", freq=\"D\", size=1000, **pre_params)\n",
    "\n",
    "df = pd.concat([pre_trtmnt_df,post_trtmnt_df])\n",
    "\n",
    "df"
   ]
  },
  {
   "cell_type": "code",
   "execution_count": 23,
   "metadata": {},
   "outputs": [
    {
     "data": {
      "text/plain": [
       "<Axes: xlabel='date'>"
      ]
     },
     "execution_count": 23,
     "metadata": {},
     "output_type": "execute_result"
    },
    {
     "data": {
      "image/png": "[encoded data removed]",
      "text/plain": [
       "<Figure size 720x480 with 1 Axes>"
      ]
     },
     "metadata": {},
     "output_type": "display_data"
    }
   ],
   "source": [
    "daily_df = df.resample(\"D\", on=\"date\").count()\n",
    "\n",
    "daily_df.plot()\n",
    "\n",
    "# All customers are starting on the same day. This can't be used!"
   ]
  },
  {
   "attachments": {},
   "cell_type": "markdown",
   "metadata": {},
   "source": [
    "### BG/NBD Modeling"
   ]
  },
  {
   "cell_type": "code",
   "execution_count": 24,
   "metadata": {},
   "outputs": [],
   "source": [
    "# bgf = BetaGeoFitter()\n",
    "\n",
    "# bgf.fit(data['frequency'], data['recency'], data['T'])"
   ]
  },
  {
   "attachments": {},
   "cell_type": "markdown",
   "metadata": {},
   "source": [
    "### CausalPy Synthetic Control"
   ]
  },
  {
   "cell_type": "code",
   "execution_count": null,
   "metadata": {},
   "outputs": [],
   "source": []
  }
 ],
 "metadata": {
  "kernelspec": {
   "display_name": "Python 3",
   "language": "python",
   "name": "python3"
  },
  "language_info": {
   "codemirror_mode": {
    "name": "ipython",
    "version": 3
   },
   "file_extension": ".py",
   "mimetype": "text/x-python",
   "name": "python",
   "nbconvert_exporter": "python",
   "pygments_lexer": "ipython3",
   "version": "3.10.4"
  },
  "orig_nbformat": 4
 },
 "nbformat": 4,
 "nbformat_minor": 2
}
